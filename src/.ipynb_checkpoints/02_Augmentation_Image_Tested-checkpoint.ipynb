{
 "cells": [
  {
   "cell_type": "code",
   "execution_count": 9,
   "metadata": {},
   "outputs": [],
   "source": [
    "import cv2\n",
    "import math\n",
    "import matplotlib.pyplot as plt\n",
    "import numpy as np\n",
    "import os\n",
    "from scipy import ndimage\n"
   ]
  },
  {
   "cell_type": "code",
   "execution_count": 15,
   "metadata": {},
   "outputs": [],
   "source": [
    "img = cv2.imread(\"/home/damvantai/Documents/github/open_source/Multi-class-BBox-Label-Tool/Images/002/26.jpg\")"
   ]
  },
  {
   "cell_type": "code",
   "execution_count": 18,
   "metadata": {},
   "outputs": [],
   "source": [
    "height, width = img.shape[0:2]"
   ]
  },
  {
   "cell_type": "code",
   "execution_count": 19,
   "metadata": {},
   "outputs": [
    {
     "data": {
      "text/plain": [
       "720"
      ]
     },
     "execution_count": 19,
     "metadata": {},
     "output_type": "execute_result"
    }
   ],
   "source": [
    "height"
   ]
  },
  {
   "cell_type": "markdown",
   "metadata": {},
   "source": [
    "## Flip boxing in image folder 002"
   ]
  },
  {
   "cell_type": "code",
   "execution_count": 10,
   "metadata": {},
   "outputs": [],
   "source": [
    "height = 720\n",
    "width = 960"
   ]
  },
  {
   "cell_type": "code",
   "execution_count": 11,
   "metadata": {},
   "outputs": [],
   "source": [
    "path = \"/home/damvantai/Documents/github/open_source/Multi-class-BBox-Label-Tool/\"\n",
    "path_image = path + \"Images/002/\"\n",
    "path_label = path + \"Labels/002/\""
   ]
  },
  {
   "cell_type": "code",
   "execution_count": 12,
   "metadata": {},
   "outputs": [],
   "source": [
    "# Create flip image\n",
    "for path in os.listdir(path_image):\n",
    "    img = cv2.imread(path_image + path)\n",
    "    img_flip = cv2.flip(img, 1)\n",
    "    path_img_flip = path_image + path.replace(\".jpg\", \"\") + \"_flip.jpg\"\n",
    "    cv2.imwrite(path_img_flip, img_flip)"
   ]
  },
  {
   "cell_type": "code",
   "execution_count": 13,
   "metadata": {},
   "outputs": [],
   "source": [
    "text_file = open(\"/home/damvantai/Documents/github/open_source/Multi-class-BBox-Label-Tool/002.txt\", \"w\")\n",
    "row = \"\""
   ]
  },
  {
   "cell_type": "code",
   "execution_count": 14,
   "metadata": {},
   "outputs": [],
   "source": [
    "# Create file row full text\n",
    "for path in os.listdir(path_label):\n",
    "    # Retrive size image if size of image another\n",
    "    path_img = path_image + path.replace(\".txt\", \".jpg\")\n",
    "    img = cv2.imread(path_img)\n",
    "    height, width = img.shape[0:2]\n",
    "    \n",
    "    box_str = \"\"\n",
    "    box_str_flip = \"\"\n",
    "    with open(path_label + path) as filetext_box:\n",
    "        data = filetext_box.readlines()\n",
    "        \n",
    "        \n",
    "        \n",
    "        # Del \"\\n\"\n",
    "        line = [x.strip() for x in data]\n",
    "        \n",
    "        # Delete image and text no hand\n",
    "        if line[0] == '0':\n",
    "            # Delete file image, and label \n",
    "            os.remove(path_label + path)\n",
    "            os.remove(path_image + path.replace(\"txt\", \"jpg\"))\n",
    "            os.remove(path_image + path.replace(\".txt\", \"\") + \"_flip.jpg\")\n",
    "            continue\n",
    "\n",
    "        for i in range(1, len(line)):\n",
    "            line_split = line[i].split(\" \")\n",
    "            \n",
    "            box_str += \" \" + line_split[0] + \",\" + \\\n",
    "            line_split[1] + \",\" + line_split[2] + \",\" + line_split[3] + \",\" + str(0)\n",
    "            \n",
    "#             box_str += \" \" + line_split[0] + \",\" + \\\n",
    "#             line_split[1] + \",\" + line_split[2] + \",\" + line_split[3] + \",\" + line_split[4]\n",
    "            \n",
    " \n",
    "    \n",
    "            x11 = width - int(line_split[0])\n",
    "            x22 = width - int(line_split[2])\n",
    "            y11 = int(line_split[1])\n",
    "            y22 = int(line_split[3])\n",
    "            \n",
    "            x_top_left = x22\n",
    "            x_right_bottom = x11\n",
    "            y_top_left = y11\n",
    "            y_right_bottom = y22\n",
    "            \n",
    "            box_str_flip += \" \" + str(x_top_left) + \",\" + \\\n",
    "            str(y_top_left) + \",\" + str(x_right_bottom) + \",\" + str(y_right_bottom) + \",\" + str(0)\n",
    "            \n",
    "#             box_str_flip += \" \" + str(x_top_left) + \",\" + \\\n",
    "#             str(y_top_left) + \",\" + str(x_right_bottom) + \",\" + str(y_right_bottom) + \",\" + line_split[4]\n",
    "            \n",
    "    row += path_image + path.replace(\".txt\", \".jpg\") + box_str + '\\n' + \\\n",
    "    path_image + path.replace(\".txt\", \"\") + \"_flip.jpg\" + box_str_flip + \"\\n\"\n",
    "text_file.write(row)\n",
    "text_file.close()"
   ]
  },
  {
   "cell_type": "markdown",
   "metadata": {},
   "source": [
    "## Completed"
   ]
  },
  {
   "cell_type": "code",
   "execution_count": null,
   "metadata": {},
   "outputs": [],
   "source": []
  },
  {
   "cell_type": "markdown",
   "metadata": {},
   "source": [
    "## Augmentation image rotate with boxes"
   ]
  },
  {
   "cell_type": "code",
   "execution_count": 161,
   "metadata": {},
   "outputs": [],
   "source": [
    "def rot(image, xy, xy1, xy2, xy3, angle):\n",
    "    im_rot = ndimage.rotate(image, angle)\n",
    "    org_center = (np.array(image.shape[:2][::-1])-1)/2.\n",
    "    rot_center = (np.array(im_rot.shape[:2][::-1])-1)/2.\n",
    "    org = xy - org_center\n",
    "    org1 = xy1 - org_center\n",
    "    org2 = xy2 - org_center\n",
    "    org3 = xy3 - org_center\n",
    "    a = np.deg2rad(angle)\n",
    "#     new = np.array([org[0]*np.cos(a) + org[1]*np.sin(a),\n",
    "#             -org[0]*np.sin(a) + org[1]*np.cos(a) ])\n",
    "#     new1 = np.array([org1[0]*np.cos(a) + org1[1]*np.sin(a),\n",
    "#             -org1[0]*np.sin(a) + org1[1]*np.cos(a) ])\n",
    "    new = np.array([org[0]*np.cos(a) + org[1]*np.sin(a),\n",
    "            -org[0]*np.sin(a) + org[1]*np.cos(a) ])\n",
    "    \n",
    "    new1 = np.array([org1[0]*np.cos(a) + org1[1]*np.sin(a),\n",
    "            -org1[0]*np.sin(a) + org1[1]*np.cos(a) ])\n",
    "    \n",
    "    new2 = np.array([org2[0]*np.cos(a) + org2[1]*np.sin(a),\n",
    "            -org2[0]*np.sin(a) + org2[1]*np.cos(a) ])\n",
    "    \n",
    "    new3 = np.array([org3[0]*np.cos(a) + org3[1]*np.sin(a),\n",
    "            -org3[0]*np.sin(a) + org3[1]*np.cos(a) ])\n",
    "    return new + rot_center, new1 + rot_center, new2 + rot_center, new3 + rot_center"
   ]
  },
  {
   "cell_type": "code",
   "execution_count": 181,
   "metadata": {},
   "outputs": [],
   "source": [
    "text_file = open(\".txt\", \"w\")\n",
    "row = \"\""
   ]
  },
  {
   "cell_type": "code",
   "execution_count": 182,
   "metadata": {},
   "outputs": [],
   "source": [
    "# Create file row full text\n",
    "for path in os.listdir(path_label):\n",
    "    \n",
    "    box_str = \"\"\n",
    "    with open(path_label + path) as filetext_box:\n",
    "        data = filetext_box.readlines()\n",
    "        \n",
    "        # Del \"\\n\"\n",
    "        line = [x.strip() for x in data]\n",
    "        \n",
    "#         # Delete image and text no hand\n",
    "#         if line[0] == '0':\n",
    "#             os.remove(path_label + path)\n",
    "#             os.remove(path_image + path.replace(\"txt\", \"jpg\"))\n",
    "#             os.remove(path_image + path.replace(\".txt\", \"\") + \"_flip.jpg\")\n",
    "#             continue\n",
    "\n",
    "        # Save image rotated\n",
    "        img = cv2.imread(path_image + path.replace(\".txt\", \".jpg\"))\n",
    "        path_img_rotated = path_image + path.replace(\".txt\", \"\") + \"_rotated.jpg\"\n",
    "        angle = np.random.randint(20, size=1)[0]\n",
    "        img_rotated = ndimage.rotate(img, angle)\n",
    "        cv2.imwrite(path_img_rotated, img_rotated)\n",
    "    \n",
    "        # Number hand in a picture\n",
    "        for i in range(1, len(line)):\n",
    "            line_split = line[i].split(\" \")\n",
    "            \n",
    "#             box_str += \" \" + line_split[0] + \",\" + \\\n",
    "#             line_split[1] + \",\" + line_split[2] + \",\" + line_split[3] + \" \" + str(0)\n",
    "\n",
    "            # xy, xy1, xy2, xy3 = top left, top right, bottom left, bottom right\n",
    "            top_left = [int(line_split[0]), int(line_split[1])]\n",
    "            bottom_right = [int(line_split[2]), int(line_split[3])]\n",
    "\n",
    "            top_right = [bottom_right[0], top_left[1]]\n",
    "            bottom_left = [top_left[0], bottom_right[1]]\n",
    "            \n",
    "            \n",
    "            (x1, y1), (x2, y2), (x3, y3), (x4, y4) = rot(img, top_left, top_right, bottom_right, bottom_left, angle)\n",
    "            \n",
    "            x_top_left = min([x1, x2, x3, x4])\n",
    "            y_top_left = min([y1, y2, y3, y4])\n",
    "            x_right_bottom = max([x1, x2, x3, x4])\n",
    "            y_right_bottom = max([y1, y2, y3, y4])\n",
    "            \n",
    "            x_top_left = int(x_top_left)\n",
    "            y_top_left = int(y_top_left)\n",
    "            x_right_bottom = int(x_right_bottom)\n",
    "            y_right_bottom = int(y_right_bottom)\n",
    "            \n",
    "            \n",
    "            \n",
    "            box_str += \" \" + str(x_top_left) + \",\" + \\\n",
    "            str(y_top_left) + \",\" + str(x_right_bottom) + \",\" + str(y_right_bottom) + \",\" + str(0)\n",
    "            \n",
    "#             box_str += \" \" + str(x_top_left) + \",\" + \\\n",
    "#             str(y_top_left) + \",\" + str(x_right_bottom) + \",\" + str(y_right_bottom) + \",\" + line_split[4]\n",
    "            \n",
    "    row += path_image + path.replace(\".txt\", \"\") + \"_rotated.jpg\" + box_str + \"\\n\"\n",
    "text_file.write(row)\n",
    "text_file.close()"
   ]
  },
  {
   "cell_type": "code",
   "execution_count": null,
   "metadata": {},
   "outputs": [],
   "source": []
  }
 ],
 "metadata": {
  "kernelspec": {
   "display_name": "Python 3",
   "language": "python",
   "name": "python3"
  },
  "language_info": {
   "codemirror_mode": {
    "name": "ipython",
    "version": 3
   },
   "file_extension": ".py",
   "mimetype": "text/x-python",
   "name": "python",
   "nbconvert_exporter": "python",
   "pygments_lexer": "ipython3",
   "version": "3.6.5"
  }
 },
 "nbformat": 4,
 "nbformat_minor": 2
}
