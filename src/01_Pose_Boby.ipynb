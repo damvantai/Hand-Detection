{
 "cells": [
  {
   "cell_type": "markdown",
   "metadata": {},
   "source": [
    "## Split video to frame"
   ]
  },
  {
   "cell_type": "code",
   "execution_count": 1,
   "metadata": {},
   "outputs": [],
   "source": [
    "import os\n",
    "import matplotlib.pyplot as plt\n",
    "import cv2\n",
    "import numpy as np"
   ]
  },
  {
   "cell_type": "code",
   "execution_count": 11,
   "metadata": {},
   "outputs": [],
   "source": [
    "path = \"/home/damvantai/Documents/github/open_source/Multi-class-BBox-Label-Tool/\""
   ]
  },
  {
   "cell_type": "code",
   "execution_count": 12,
   "metadata": {},
   "outputs": [
    {
     "data": {
      "text/plain": [
       "'/home/damvantai/Documents/github/open_source/Multi-class-BBox-Label-Tool/'"
      ]
     },
     "execution_count": 12,
     "metadata": {},
     "output_type": "execute_result"
    }
   ],
   "source": [
    "path"
   ]
  },
  {
   "cell_type": "code",
   "execution_count": 13,
   "metadata": {},
   "outputs": [],
   "source": [
    "path_image = path + \"Images/001/\"\n",
    "path_label = path + \"Labels/001/\""
   ]
  },
  {
   "cell_type": "code",
   "execution_count": 14,
   "metadata": {},
   "outputs": [],
   "source": [
    "# Remove file txt no label\n",
    "for file in os.listdir(path_label):\n",
    "    box_str = \"\"\n",
    "    with open(path_label + file) as file_box:\n",
    "        data = file_box.readlines()\n",
    "        \n",
    "        # Del '\\n'\n",
    "        line = [x.strip() for x in data]\n",
    "        if line[0] == '0':\n",
    "            # Delete image and text\n",
    "            os.remove(path_label + file)\n",
    "            os.remove(path_image + file.replace(\"txt\", \"jpg\"))\n",
    "#             continue"
   ]
  },
  {
   "cell_type": "code",
   "execution_count": null,
   "metadata": {},
   "outputs": [],
   "source": []
  },
  {
   "cell_type": "markdown",
   "metadata": {},
   "source": [
    "## Test file same image and label (may delete)"
   ]
  },
  {
   "cell_type": "code",
   "execution_count": 27,
   "metadata": {},
   "outputs": [],
   "source": [
    "file_labels = []"
   ]
  },
  {
   "cell_type": "code",
   "execution_count": 28,
   "metadata": {},
   "outputs": [],
   "source": [
    "for file in os.listdir(path_label):\n",
    "    file_labels.append(file.replace(\"txt\", \"jpg\"))"
   ]
  },
  {
   "cell_type": "code",
   "execution_count": 33,
   "metadata": {},
   "outputs": [],
   "source": [
    "for file in os.listdir(path_image):\n",
    "    if file not in file_labels:\n",
    "        os.remove(path_image + file)"
   ]
  },
  {
   "cell_type": "markdown",
   "metadata": {},
   "source": [
    "## Convert label text -> format keras yolov3"
   ]
  },
  {
   "cell_type": "code",
   "execution_count": 24,
   "metadata": {},
   "outputs": [],
   "source": [
    "text_file = open(\"row_pose.txt\", \"w\")\n",
    "row = \"\""
   ]
  },
  {
   "cell_type": "code",
   "execution_count": 25,
   "metadata": {},
   "outputs": [],
   "source": [
    "for file in os.listdir(path_label):\n",
    "    box_str = \"\"\n",
    "    with open(path_label + file) as file_box:\n",
    "        data = file_box.readlines()\n",
    "        line = [x.strip() for x in data]\n",
    "        for i in range(1, len(line)):\n",
    "            line_split = line[i].split(\" \")\n",
    "            box_str += \" \" + line_split[0] + \",\" + line_split[1] + \",\" + line_split[2] + \",\" + line_split[3] + \",\" + line_split[4]\n",
    "            \n",
    "    row += path_image + file.replace(\"txt\", \"jpg\") + box_str + '\\n'\n",
    "    \n",
    "text_file.write(row)\n",
    "text_file.close()\n",
    "    \n",
    "                                                                                                                        "
   ]
  },
  {
   "cell_type": "code",
   "execution_count": null,
   "metadata": {},
   "outputs": [],
   "source": []
  }
 ],
 "metadata": {
  "kernelspec": {
   "display_name": "Python 3",
   "language": "python",
   "name": "python3"
  },
  "language_info": {
   "codemirror_mode": {
    "name": "ipython",
    "version": 3
   },
   "file_extension": ".py",
   "mimetype": "text/x-python",
   "name": "python",
   "nbconvert_exporter": "python",
   "pygments_lexer": "ipython3",
   "version": "3.6.5"
  }
 },
 "nbformat": 4,
 "nbformat_minor": 2
}
