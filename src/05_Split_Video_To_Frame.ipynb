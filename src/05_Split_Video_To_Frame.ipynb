{
 "cells": [
  {
   "cell_type": "code",
   "execution_count": 48,
   "metadata": {},
   "outputs": [],
   "source": [
    "import cv2\n",
    "import dlib\n",
    "import imutils\n",
    "import matplotlib.pyplot as plt\n",
    "import numpy as np\n",
    "import os"
   ]
  },
  {
   "cell_type": "code",
   "execution_count": null,
   "metadata": {},
   "outputs": [],
   "source": []
  },
  {
   "cell_type": "code",
   "execution_count": 49,
   "metadata": {},
   "outputs": [],
   "source": [
    "path = \"/mnt/24eb92b8-4fc1-4f32-b05c-deaa999ce6cf/Documents/datasets/pose_human/detect_sit_stand_sleep/video\""
   ]
  },
  {
   "cell_type": "code",
   "execution_count": 50,
   "metadata": {},
   "outputs": [],
   "source": [
    "count = 0"
   ]
  },
  {
   "cell_type": "code",
   "execution_count": 66,
   "metadata": {},
   "outputs": [],
   "source": [
    "video_capture = cv2.VideoCapture(\"/mnt/24eb92b8-4fc1-4f32-b05c-deaa999ce6cf/Documents/datasets/pose_human/detect_sit_stand_sleep/video/Is coworking really the future_ _ CNBC Explains [720p].mp4\")\n",
    "frame_number = 0"
   ]
  },
  {
   "cell_type": "code",
   "execution_count": 67,
   "metadata": {},
   "outputs": [],
   "source": [
    "while (video_capture.isOpened()):\n",
    "    ret, frame = video_capture.read()\n",
    "    \n",
    "    if frame_number % 40 == 0:\n",
    "        cv2.imwrite(\"/mnt/24eb92b8-4fc1-4f32-b05c-deaa999ce6cf/Documents/datasets/pose_human/detect_sit_stand_sleep/video_frame/it/%d.jpg\" % count, frame)\n",
    "        count += 1\n",
    "    if frame_number == 5000:\n",
    "        break\n",
    "\n",
    "    frame_number += 1"
   ]
  },
  {
   "cell_type": "code",
   "execution_count": null,
   "metadata": {},
   "outputs": [],
   "source": []
  },
  {
   "cell_type": "markdown",
   "metadata": {},
   "source": [
    "## Rename file"
   ]
  },
  {
   "cell_type": "code",
   "execution_count": 45,
   "metadata": {},
   "outputs": [],
   "source": [
    "path = \"/mnt/24eb92b8-4fc1-4f32-b05c-deaa999ce6cf/Documents/datasets/pose_human/detect_sit_stand_sleep/image/\""
   ]
  },
  {
   "cell_type": "code",
   "execution_count": 46,
   "metadata": {},
   "outputs": [],
   "source": [
    "count = 1953"
   ]
  },
  {
   "cell_type": "code",
   "execution_count": 47,
   "metadata": {},
   "outputs": [],
   "source": [
    "for file in os.listdir(path):\n",
    "    src = path + file\n",
    "    des = path + str(count) + \".jpg\"\n",
    "    os.rename(src, des)\n",
    "    count += 1"
   ]
  },
  {
   "cell_type": "code",
   "execution_count": null,
   "metadata": {},
   "outputs": [],
   "source": []
  },
  {
   "cell_type": "code",
   "execution_count": null,
   "metadata": {},
   "outputs": [],
   "source": []
  }
 ],
 "metadata": {
  "kernelspec": {
   "display_name": "Python 3",
   "language": "python",
   "name": "python3"
  },
  "language_info": {
   "codemirror_mode": {
    "name": "ipython",
    "version": 3
   },
   "file_extension": ".py",
   "mimetype": "text/x-python",
   "name": "python",
   "nbconvert_exporter": "python",
   "pygments_lexer": "ipython3",
   "version": "3.6.5"
  }
 },
 "nbformat": 4,
 "nbformat_minor": 2
}
